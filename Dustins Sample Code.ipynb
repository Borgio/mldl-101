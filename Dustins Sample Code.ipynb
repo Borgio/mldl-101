{
    "cells": [
        {
            "cell_type": "markdown", 
            "source": "## 1 - Building basic functions with numpy ##\n\nNumpy is the main package for scientific computing in Python. It is maintained by a large community (www.numpy.org). In this exercise you will learn several key numpy functions such as np.exp, np.log, and np.reshape. You will need to know how to use these functions for future assignments.\n\n### 1.1 - sigmoid function, np.exp() ###\n\nBefore using np.exp(), you will use math.exp() to implement the sigmoid function. You will then see why np.exp() is preferable to math.exp().\n\n**Exercise**: Build a function that returns the sigmoid of a real number x. Use math.exp(x) for the exponential function.\n\n**Reminder**:\n$sigmoid(x) = \\frac{1}{1+e^{-x}}$ is sometimes also known as the logistic function. It is a non-linear function used not only in Machine Learning (Logistic Regression), but also in Deep Learning.\n\n<img src=\"images/Sigmoid.png\" style=\"width:500px;height:228px;\">\n\nTo refer to a function belonging to a specific package you could call it using package_name.function(). Run the code below to see an example with math.exp().", 
            "metadata": {
                "collapsed": true
            }
        }, 
        {
            "cell_type": "code", 
            "outputs": [
                {
                    "output_type": "stream", 
                    "text": "/gpfs/fs01/user/s37a-6a8375ad9b78b5-6459f7095f24/notebook/work\r\n", 
                    "name": "stdout"
                }
            ], 
            "execution_count": 10, 
            "metadata": {}, 
            "source": "!pwd"
        }, 
        {
            "cell_type": "markdown", 
            "source": "In fact, if $ x = (x_1, x_2, ..., x_n)$ is a row vector then $np.exp(x)$ will apply the exponential function to every element of x. The output will thus be: $np.exp(x) = (e^{x_1}, e^{x_2}, ..., e^{x_n})$", 
            "metadata": {}
        }, 
        {
            "cell_type": "markdown", 
            "source": "Any time you need more info on a numpy function, we encourage you to look at [the official documentation](https://docs.scipy.org/doc/numpy-1.10.1/reference/generated/numpy.exp.html). \n\nYou can also create a new cell in the notebook and write `np.exp?` (for example) to get quick access to the documentation.\n\n**Exercise**: Implement the sigmoid function using numpy. \n\n**Instructions**: x could now be either a real number, a vector, or a matrix. The data structures we use in numpy to represent these shapes (vectors, matrices...) are called numpy arrays. You don't need to know more for now.\n$$ \\text{For } x \\in \\mathbb{R}^n \\text{,     } sigmoid(x) = sigmoid\\begin{pmatrix}\n    x_1  \\\\\n    x_2  \\\\\n    ...  \\\\\n    x_n  \\\\\n\\end{pmatrix} = \\begin{pmatrix}\n    \\frac{1}{1+e^{-x_1}}  \\\\\n    \\frac{1}{1+e^{-x_2}}  \\\\\n    ...  \\\\\n    \\frac{1}{1+e^{-x_n}}  \\\\\n\\end{pmatrix}\\tag{1} $$", 
            "metadata": {}
        }, 
        {
            "cell_type": "code", 
            "outputs": [], 
            "execution_count": null, 
            "metadata": {
                "collapsed": true
            }, 
            "source": "import math\nmath.exp?"
        }, 
        {
            "cell_type": "markdown", 
            "source": "**Expected Output**: \n<table>\n    <tr> \n        <td> **sigmoid([1,2,3])**</td> \n        <td> array([ 0.73105858,  0.88079708,  0.95257413]) </td> \n    </tr>\n</table> ", 
            "metadata": {}
        }, 
        {
            "cell_type": "code", 
            "outputs": [], 
            "execution_count": 8, 
            "metadata": {
                "collapsed": true
            }, 
            "source": "s = \"hello world\""
        }, 
        {
            "cell_type": "code", 
            "outputs": [], 
            "execution_count": 9, 
            "metadata": {
                "collapsed": true
            }, 
            "source": "s.split?"
        }, 
        {
            "cell_type": "code", 
            "outputs": [], 
            "execution_count": null, 
            "metadata": {
                "collapsed": true
            }, 
            "source": ""
        }, 
        {
            "cell_type": "code", 
            "outputs": [], 
            "execution_count": null, 
            "metadata": {
                "collapsed": true
            }, 
            "source": ""
        }, 
        {
            "cell_type": "code", 
            "outputs": [], 
            "execution_count": null, 
            "metadata": {
                "collapsed": true
            }, 
            "source": ""
        }, 
        {
            "cell_type": "code", 
            "outputs": [], 
            "execution_count": null, 
            "metadata": {
                "collapsed": true
            }, 
            "source": ""
        }
    ], 
    "nbformat_minor": 1, 
    "metadata": {
        "kernelspec": {
            "language": "python", 
            "name": "python3-spark20", 
            "display_name": "Python 3.5 (Experimental) with Spark 2.0"
        }, 
        "language_info": {
            "version": "3.5.2", 
            "nbconvert_exporter": "python", 
            "mimetype": "text/x-python", 
            "name": "python", 
            "pygments_lexer": "ipython3", 
            "file_extension": ".py", 
            "codemirror_mode": {
                "version": 3, 
                "name": "ipython"
            }
        }
    }, 
    "nbformat": 4
}